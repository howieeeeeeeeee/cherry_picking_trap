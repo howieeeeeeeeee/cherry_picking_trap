{
 "cells": [
  {
   "cell_type": "code",
   "execution_count": 2,
   "metadata": {},
   "outputs": [],
   "source": [
    "from import_setup import *\n",
    "import time\n",
    "from src.simulation.cherry_picking_model import CherryPickingModel\n",
    "from config.paths import DATA_PATH\n",
    "import numpy as np\n",
    "from src.data_management.mongo_handler import insert_simulation_result\n",
    "from config.db import MONGOCLIENT_LOCAL, MONGOCLIENT\n",
    "import pandas as pd\n",
    "import matplotlib.pyplot as plt"
   ]
  },
  {
   "cell_type": "code",
   "execution_count": 3,
   "metadata": {},
   "outputs": [
    {
     "ename": "OperationFailure",
     "evalue": "user is not allowed to do action [find] on [cherry_picking_trap.simulation_results], full error: {'ok': 0, 'errmsg': 'user is not allowed to do action [find] on [cherry_picking_trap.simulation_results]', 'code': 8000, 'codeName': 'AtlasError'}",
     "output_type": "error",
     "traceback": [
      "\u001b[31m---------------------------------------------------------------------------\u001b[39m",
      "\u001b[31mOperationFailure\u001b[39m                          Traceback (most recent call last)",
      "\u001b[36mCell\u001b[39m\u001b[36m \u001b[39m\u001b[32mIn[3]\u001b[39m\u001b[32m, line 3\u001b[39m\n\u001b[32m      1\u001b[39m db = MONGOCLIENT[\u001b[33m\"\u001b[39m\u001b[33mcherry_picking_trap\u001b[39m\u001b[33m\"\u001b[39m]\n\u001b[32m----> \u001b[39m\u001b[32m3\u001b[39m \u001b[43mdb\u001b[49m\u001b[43m[\u001b[49m\u001b[33;43m\"\u001b[39;49m\u001b[33;43msimulation_results\u001b[39;49m\u001b[33;43m\"\u001b[39;49m\u001b[43m]\u001b[49m\u001b[43m.\u001b[49m\u001b[43mfind_one\u001b[49m\u001b[43m(\u001b[49m\u001b[43m)\u001b[49m\n",
      "\u001b[36mFile \u001b[39m\u001b[32m~/.local/share/virtualenvs/cherry_picking_trap-34YczwhT/lib/python3.11/site-packages/pymongo/synchronous/collection.py:1755\u001b[39m, in \u001b[36mCollection.find_one\u001b[39m\u001b[34m(self, filter, *args, **kwargs)\u001b[39m\n\u001b[32m   1753\u001b[39m     \u001b[38;5;28mfilter\u001b[39m = {\u001b[33m\"\u001b[39m\u001b[33m_id\u001b[39m\u001b[33m\"\u001b[39m: \u001b[38;5;28mfilter\u001b[39m}\n\u001b[32m   1754\u001b[39m cursor = \u001b[38;5;28mself\u001b[39m.find(\u001b[38;5;28mfilter\u001b[39m, *args, **kwargs)\n\u001b[32m-> \u001b[39m\u001b[32m1755\u001b[39m \u001b[43m\u001b[49m\u001b[38;5;28;43;01mfor\u001b[39;49;00m\u001b[43m \u001b[49m\u001b[43mresult\u001b[49m\u001b[43m \u001b[49m\u001b[38;5;129;43;01min\u001b[39;49;00m\u001b[43m \u001b[49m\u001b[43mcursor\u001b[49m\u001b[43m.\u001b[49m\u001b[43mlimit\u001b[49m\u001b[43m(\u001b[49m\u001b[43m-\u001b[49m\u001b[32;43m1\u001b[39;49m\u001b[43m)\u001b[49m\u001b[43m:\u001b[49m\n\u001b[32m   1756\u001b[39m \u001b[43m    \u001b[49m\u001b[38;5;28;43;01mreturn\u001b[39;49;00m\u001b[43m \u001b[49m\u001b[43mresult\u001b[49m\n\u001b[32m   1757\u001b[39m \u001b[38;5;28;01mreturn\u001b[39;00m \u001b[38;5;28;01mNone\u001b[39;00m\n",
      "\u001b[36mFile \u001b[39m\u001b[32m~/.local/share/virtualenvs/cherry_picking_trap-34YczwhT/lib/python3.11/site-packages/pymongo/synchronous/cursor.py:1284\u001b[39m, in \u001b[36mCursor.__next__\u001b[39m\u001b[34m(self)\u001b[39m\n\u001b[32m   1283\u001b[39m \u001b[38;5;28;01mdef\u001b[39;00m\u001b[38;5;250m \u001b[39m\u001b[34m__next__\u001b[39m(\u001b[38;5;28mself\u001b[39m) -> _DocumentType:\n\u001b[32m-> \u001b[39m\u001b[32m1284\u001b[39m     \u001b[38;5;28;01mreturn\u001b[39;00m \u001b[38;5;28;43mself\u001b[39;49m\u001b[43m.\u001b[49m\u001b[43mnext\u001b[49m\u001b[43m(\u001b[49m\u001b[43m)\u001b[49m\n",
      "\u001b[36mFile \u001b[39m\u001b[32m~/.local/share/virtualenvs/cherry_picking_trap-34YczwhT/lib/python3.11/site-packages/pymongo/synchronous/cursor.py:1260\u001b[39m, in \u001b[36mCursor.next\u001b[39m\u001b[34m(self)\u001b[39m\n\u001b[32m   1258\u001b[39m \u001b[38;5;28;01mif\u001b[39;00m \u001b[38;5;28mself\u001b[39m._empty:\n\u001b[32m   1259\u001b[39m     \u001b[38;5;28;01mraise\u001b[39;00m \u001b[38;5;167;01mStopIteration\u001b[39;00m\n\u001b[32m-> \u001b[39m\u001b[32m1260\u001b[39m \u001b[38;5;28;01mif\u001b[39;00m \u001b[38;5;28mlen\u001b[39m(\u001b[38;5;28mself\u001b[39m._data) \u001b[38;5;129;01mor\u001b[39;00m \u001b[38;5;28;43mself\u001b[39;49m\u001b[43m.\u001b[49m\u001b[43m_refresh\u001b[49m\u001b[43m(\u001b[49m\u001b[43m)\u001b[49m:\n\u001b[32m   1261\u001b[39m     \u001b[38;5;28;01mreturn\u001b[39;00m \u001b[38;5;28mself\u001b[39m._data.popleft()\n\u001b[32m   1262\u001b[39m \u001b[38;5;28;01melse\u001b[39;00m:\n",
      "\u001b[36mFile \u001b[39m\u001b[32m~/.local/share/virtualenvs/cherry_picking_trap-34YczwhT/lib/python3.11/site-packages/pymongo/synchronous/cursor.py:1208\u001b[39m, in \u001b[36mCursor._refresh\u001b[39m\u001b[34m(self)\u001b[39m\n\u001b[32m   1186\u001b[39m         \u001b[38;5;28;01mraise\u001b[39;00m InvalidOperation(\n\u001b[32m   1187\u001b[39m             \u001b[33m\"\u001b[39m\u001b[33mPassing a \u001b[39m\u001b[33m'\u001b[39m\u001b[33mhint\u001b[39m\u001b[33m'\u001b[39m\u001b[33m is required when using the min/max query\u001b[39m\u001b[33m\"\u001b[39m\n\u001b[32m   1188\u001b[39m             \u001b[33m\"\u001b[39m\u001b[33m option to ensure the query utilizes the correct index\u001b[39m\u001b[33m\"\u001b[39m\n\u001b[32m   1189\u001b[39m         )\n\u001b[32m   1190\u001b[39m     q = \u001b[38;5;28mself\u001b[39m._query_class(\n\u001b[32m   1191\u001b[39m         \u001b[38;5;28mself\u001b[39m._query_flags,\n\u001b[32m   1192\u001b[39m         \u001b[38;5;28mself\u001b[39m._collection.database.name,\n\u001b[32m   (...)\u001b[39m\u001b[32m   1206\u001b[39m         \u001b[38;5;28mself\u001b[39m._exhaust,\n\u001b[32m   1207\u001b[39m     )\n\u001b[32m-> \u001b[39m\u001b[32m1208\u001b[39m     \u001b[38;5;28;43mself\u001b[39;49m\u001b[43m.\u001b[49m\u001b[43m_send_message\u001b[49m\u001b[43m(\u001b[49m\u001b[43mq\u001b[49m\u001b[43m)\u001b[49m\n\u001b[32m   1209\u001b[39m \u001b[38;5;28;01melif\u001b[39;00m \u001b[38;5;28mself\u001b[39m._id:  \u001b[38;5;66;03m# Get More\u001b[39;00m\n\u001b[32m   1210\u001b[39m     \u001b[38;5;28;01mif\u001b[39;00m \u001b[38;5;28mself\u001b[39m._limit:\n",
      "\u001b[36mFile \u001b[39m\u001b[32m~/.local/share/virtualenvs/cherry_picking_trap-34YczwhT/lib/python3.11/site-packages/pymongo/synchronous/cursor.py:1102\u001b[39m, in \u001b[36mCursor._send_message\u001b[39m\u001b[34m(self, operation)\u001b[39m\n\u001b[32m   1099\u001b[39m     \u001b[38;5;28;01mraise\u001b[39;00m InvalidOperation(\u001b[33m\"\u001b[39m\u001b[33mexhaust cursors do not support auto encryption\u001b[39m\u001b[33m\"\u001b[39m)\n\u001b[32m   1101\u001b[39m \u001b[38;5;28;01mtry\u001b[39;00m:\n\u001b[32m-> \u001b[39m\u001b[32m1102\u001b[39m     response = \u001b[43mclient\u001b[49m\u001b[43m.\u001b[49m\u001b[43m_run_operation\u001b[49m\u001b[43m(\u001b[49m\n\u001b[32m   1103\u001b[39m \u001b[43m        \u001b[49m\u001b[43moperation\u001b[49m\u001b[43m,\u001b[49m\u001b[43m \u001b[49m\u001b[38;5;28;43mself\u001b[39;49m\u001b[43m.\u001b[49m\u001b[43m_unpack_response\u001b[49m\u001b[43m,\u001b[49m\u001b[43m \u001b[49m\u001b[43maddress\u001b[49m\u001b[43m=\u001b[49m\u001b[38;5;28;43mself\u001b[39;49m\u001b[43m.\u001b[49m\u001b[43m_address\u001b[49m\n\u001b[32m   1104\u001b[39m \u001b[43m    \u001b[49m\u001b[43m)\u001b[49m\n\u001b[32m   1105\u001b[39m \u001b[38;5;28;01mexcept\u001b[39;00m OperationFailure \u001b[38;5;28;01mas\u001b[39;00m exc:\n\u001b[32m   1106\u001b[39m     \u001b[38;5;28;01mif\u001b[39;00m exc.code \u001b[38;5;129;01min\u001b[39;00m _CURSOR_CLOSED_ERRORS \u001b[38;5;129;01mor\u001b[39;00m \u001b[38;5;28mself\u001b[39m._exhaust:\n\u001b[32m   1107\u001b[39m         \u001b[38;5;66;03m# Don't send killCursors because the cursor is already closed.\u001b[39;00m\n",
      "\u001b[36mFile \u001b[39m\u001b[32m~/.local/share/virtualenvs/cherry_picking_trap-34YczwhT/lib/python3.11/site-packages/pymongo/_csot.py:125\u001b[39m, in \u001b[36mapply.<locals>.csot_wrapper\u001b[39m\u001b[34m(self, *args, **kwargs)\u001b[39m\n\u001b[32m    123\u001b[39m         \u001b[38;5;28;01mwith\u001b[39;00m _TimeoutContext(timeout):\n\u001b[32m    124\u001b[39m             \u001b[38;5;28;01mreturn\u001b[39;00m func(\u001b[38;5;28mself\u001b[39m, *args, **kwargs)\n\u001b[32m--> \u001b[39m\u001b[32m125\u001b[39m \u001b[38;5;28;01mreturn\u001b[39;00m \u001b[43mfunc\u001b[49m\u001b[43m(\u001b[49m\u001b[38;5;28;43mself\u001b[39;49m\u001b[43m,\u001b[49m\u001b[43m \u001b[49m\u001b[43m*\u001b[49m\u001b[43margs\u001b[49m\u001b[43m,\u001b[49m\u001b[43m \u001b[49m\u001b[43m*\u001b[49m\u001b[43m*\u001b[49m\u001b[43mkwargs\u001b[49m\u001b[43m)\u001b[49m\n",
      "\u001b[36mFile \u001b[39m\u001b[32m~/.local/share/virtualenvs/cherry_picking_trap-34YczwhT/lib/python3.11/site-packages/pymongo/synchronous/mongo_client.py:1917\u001b[39m, in \u001b[36mMongoClient._run_operation\u001b[39m\u001b[34m(self, operation, unpack_res, address)\u001b[39m\n\u001b[32m   1907\u001b[39m     operation.reset()  \u001b[38;5;66;03m# Reset op in case of retry.\u001b[39;00m\n\u001b[32m   1908\u001b[39m     \u001b[38;5;28;01mreturn\u001b[39;00m server.run_operation(\n\u001b[32m   1909\u001b[39m         conn,\n\u001b[32m   1910\u001b[39m         operation,\n\u001b[32m   (...)\u001b[39m\u001b[32m   1914\u001b[39m         \u001b[38;5;28mself\u001b[39m,\n\u001b[32m   1915\u001b[39m     )\n\u001b[32m-> \u001b[39m\u001b[32m1917\u001b[39m \u001b[38;5;28;01mreturn\u001b[39;00m \u001b[38;5;28;43mself\u001b[39;49m\u001b[43m.\u001b[49m\u001b[43m_retryable_read\u001b[49m\u001b[43m(\u001b[49m\n\u001b[32m   1918\u001b[39m \u001b[43m    \u001b[49m\u001b[43m_cmd\u001b[49m\u001b[43m,\u001b[49m\n\u001b[32m   1919\u001b[39m \u001b[43m    \u001b[49m\u001b[43moperation\u001b[49m\u001b[43m.\u001b[49m\u001b[43mread_preference\u001b[49m\u001b[43m,\u001b[49m\n\u001b[32m   1920\u001b[39m \u001b[43m    \u001b[49m\u001b[43moperation\u001b[49m\u001b[43m.\u001b[49m\u001b[43msession\u001b[49m\u001b[43m,\u001b[49m\u001b[43m  \u001b[49m\u001b[38;5;66;43;03m# type: ignore[arg-type]\u001b[39;49;00m\n\u001b[32m   1921\u001b[39m \u001b[43m    \u001b[49m\u001b[43maddress\u001b[49m\u001b[43m=\u001b[49m\u001b[43maddress\u001b[49m\u001b[43m,\u001b[49m\n\u001b[32m   1922\u001b[39m \u001b[43m    \u001b[49m\u001b[43mretryable\u001b[49m\u001b[43m=\u001b[49m\u001b[38;5;28;43misinstance\u001b[39;49m\u001b[43m(\u001b[49m\u001b[43moperation\u001b[49m\u001b[43m,\u001b[49m\u001b[43m \u001b[49m\u001b[43m_Query\u001b[49m\u001b[43m)\u001b[49m\u001b[43m,\u001b[49m\n\u001b[32m   1923\u001b[39m \u001b[43m    \u001b[49m\u001b[43moperation\u001b[49m\u001b[43m=\u001b[49m\u001b[43moperation\u001b[49m\u001b[43m.\u001b[49m\u001b[43mname\u001b[49m\u001b[43m,\u001b[49m\n\u001b[32m   1924\u001b[39m \u001b[43m\u001b[49m\u001b[43m)\u001b[49m\n",
      "\u001b[36mFile \u001b[39m\u001b[32m~/.local/share/virtualenvs/cherry_picking_trap-34YczwhT/lib/python3.11/site-packages/pymongo/synchronous/mongo_client.py:2026\u001b[39m, in \u001b[36mMongoClient._retryable_read\u001b[39m\u001b[34m(self, func, read_pref, session, operation, address, retryable, operation_id)\u001b[39m\n\u001b[32m   2021\u001b[39m \u001b[38;5;66;03m# Ensure that the client supports retrying on reads and there is no session in\u001b[39;00m\n\u001b[32m   2022\u001b[39m \u001b[38;5;66;03m# transaction, otherwise, we will not support retry behavior for this call.\u001b[39;00m\n\u001b[32m   2023\u001b[39m retryable = \u001b[38;5;28mbool\u001b[39m(\n\u001b[32m   2024\u001b[39m     retryable \u001b[38;5;129;01mand\u001b[39;00m \u001b[38;5;28mself\u001b[39m.options.retry_reads \u001b[38;5;129;01mand\u001b[39;00m \u001b[38;5;129;01mnot\u001b[39;00m (session \u001b[38;5;129;01mand\u001b[39;00m session.in_transaction)\n\u001b[32m   2025\u001b[39m )\n\u001b[32m-> \u001b[39m\u001b[32m2026\u001b[39m \u001b[38;5;28;01mreturn\u001b[39;00m \u001b[38;5;28;43mself\u001b[39;49m\u001b[43m.\u001b[49m\u001b[43m_retry_internal\u001b[49m\u001b[43m(\u001b[49m\n\u001b[32m   2027\u001b[39m \u001b[43m    \u001b[49m\u001b[43mfunc\u001b[49m\u001b[43m,\u001b[49m\n\u001b[32m   2028\u001b[39m \u001b[43m    \u001b[49m\u001b[43msession\u001b[49m\u001b[43m,\u001b[49m\n\u001b[32m   2029\u001b[39m \u001b[43m    \u001b[49m\u001b[38;5;28;43;01mNone\u001b[39;49;00m\u001b[43m,\u001b[49m\n\u001b[32m   2030\u001b[39m \u001b[43m    \u001b[49m\u001b[43moperation\u001b[49m\u001b[43m,\u001b[49m\n\u001b[32m   2031\u001b[39m \u001b[43m    \u001b[49m\u001b[43mis_read\u001b[49m\u001b[43m=\u001b[49m\u001b[38;5;28;43;01mTrue\u001b[39;49;00m\u001b[43m,\u001b[49m\n\u001b[32m   2032\u001b[39m \u001b[43m    \u001b[49m\u001b[43maddress\u001b[49m\u001b[43m=\u001b[49m\u001b[43maddress\u001b[49m\u001b[43m,\u001b[49m\n\u001b[32m   2033\u001b[39m \u001b[43m    \u001b[49m\u001b[43mread_pref\u001b[49m\u001b[43m=\u001b[49m\u001b[43mread_pref\u001b[49m\u001b[43m,\u001b[49m\n\u001b[32m   2034\u001b[39m \u001b[43m    \u001b[49m\u001b[43mretryable\u001b[49m\u001b[43m=\u001b[49m\u001b[43mretryable\u001b[49m\u001b[43m,\u001b[49m\n\u001b[32m   2035\u001b[39m \u001b[43m    \u001b[49m\u001b[43moperation_id\u001b[49m\u001b[43m=\u001b[49m\u001b[43moperation_id\u001b[49m\u001b[43m,\u001b[49m\n\u001b[32m   2036\u001b[39m \u001b[43m\u001b[49m\u001b[43m)\u001b[49m\n",
      "\u001b[36mFile \u001b[39m\u001b[32m~/.local/share/virtualenvs/cherry_picking_trap-34YczwhT/lib/python3.11/site-packages/pymongo/_csot.py:125\u001b[39m, in \u001b[36mapply.<locals>.csot_wrapper\u001b[39m\u001b[34m(self, *args, **kwargs)\u001b[39m\n\u001b[32m    123\u001b[39m         \u001b[38;5;28;01mwith\u001b[39;00m _TimeoutContext(timeout):\n\u001b[32m    124\u001b[39m             \u001b[38;5;28;01mreturn\u001b[39;00m func(\u001b[38;5;28mself\u001b[39m, *args, **kwargs)\n\u001b[32m--> \u001b[39m\u001b[32m125\u001b[39m \u001b[38;5;28;01mreturn\u001b[39;00m \u001b[43mfunc\u001b[49m\u001b[43m(\u001b[49m\u001b[38;5;28;43mself\u001b[39;49m\u001b[43m,\u001b[49m\u001b[43m \u001b[49m\u001b[43m*\u001b[49m\u001b[43margs\u001b[49m\u001b[43m,\u001b[49m\u001b[43m \u001b[49m\u001b[43m*\u001b[49m\u001b[43m*\u001b[49m\u001b[43mkwargs\u001b[49m\u001b[43m)\u001b[49m\n",
      "\u001b[36mFile \u001b[39m\u001b[32m~/.local/share/virtualenvs/cherry_picking_trap-34YczwhT/lib/python3.11/site-packages/pymongo/synchronous/mongo_client.py:1993\u001b[39m, in \u001b[36mMongoClient._retry_internal\u001b[39m\u001b[34m(self, func, session, bulk, operation, is_read, address, read_pref, retryable, operation_id)\u001b[39m\n\u001b[32m   1956\u001b[39m \u001b[38;5;129m@_csot\u001b[39m.apply\n\u001b[32m   1957\u001b[39m \u001b[38;5;28;01mdef\u001b[39;00m\u001b[38;5;250m \u001b[39m\u001b[34m_retry_internal\u001b[39m(\n\u001b[32m   1958\u001b[39m     \u001b[38;5;28mself\u001b[39m,\n\u001b[32m   (...)\u001b[39m\u001b[32m   1967\u001b[39m     operation_id: Optional[\u001b[38;5;28mint\u001b[39m] = \u001b[38;5;28;01mNone\u001b[39;00m,\n\u001b[32m   1968\u001b[39m ) -> T:\n\u001b[32m   1969\u001b[39m \u001b[38;5;250m    \u001b[39m\u001b[33;03m\"\"\"Internal retryable helper for all client transactions.\u001b[39;00m\n\u001b[32m   1970\u001b[39m \n\u001b[32m   1971\u001b[39m \u001b[33;03m    :param func: Callback function we want to retry\u001b[39;00m\n\u001b[32m   (...)\u001b[39m\u001b[32m   1980\u001b[39m \u001b[33;03m    :return: Output of the calling func()\u001b[39;00m\n\u001b[32m   1981\u001b[39m \u001b[33;03m    \"\"\"\u001b[39;00m\n\u001b[32m   1982\u001b[39m     \u001b[38;5;28;01mreturn\u001b[39;00m \u001b[43m_ClientConnectionRetryable\u001b[49m\u001b[43m(\u001b[49m\n\u001b[32m   1983\u001b[39m \u001b[43m        \u001b[49m\u001b[43mmongo_client\u001b[49m\u001b[43m=\u001b[49m\u001b[38;5;28;43mself\u001b[39;49m\u001b[43m,\u001b[49m\n\u001b[32m   1984\u001b[39m \u001b[43m        \u001b[49m\u001b[43mfunc\u001b[49m\u001b[43m=\u001b[49m\u001b[43mfunc\u001b[49m\u001b[43m,\u001b[49m\n\u001b[32m   1985\u001b[39m \u001b[43m        \u001b[49m\u001b[43mbulk\u001b[49m\u001b[43m=\u001b[49m\u001b[43mbulk\u001b[49m\u001b[43m,\u001b[49m\n\u001b[32m   1986\u001b[39m \u001b[43m        \u001b[49m\u001b[43moperation\u001b[49m\u001b[43m=\u001b[49m\u001b[43moperation\u001b[49m\u001b[43m,\u001b[49m\n\u001b[32m   1987\u001b[39m \u001b[43m        \u001b[49m\u001b[43mis_read\u001b[49m\u001b[43m=\u001b[49m\u001b[43mis_read\u001b[49m\u001b[43m,\u001b[49m\n\u001b[32m   1988\u001b[39m \u001b[43m        \u001b[49m\u001b[43msession\u001b[49m\u001b[43m=\u001b[49m\u001b[43msession\u001b[49m\u001b[43m,\u001b[49m\n\u001b[32m   1989\u001b[39m \u001b[43m        \u001b[49m\u001b[43mread_pref\u001b[49m\u001b[43m=\u001b[49m\u001b[43mread_pref\u001b[49m\u001b[43m,\u001b[49m\n\u001b[32m   1990\u001b[39m \u001b[43m        \u001b[49m\u001b[43maddress\u001b[49m\u001b[43m=\u001b[49m\u001b[43maddress\u001b[49m\u001b[43m,\u001b[49m\n\u001b[32m   1991\u001b[39m \u001b[43m        \u001b[49m\u001b[43mretryable\u001b[49m\u001b[43m=\u001b[49m\u001b[43mretryable\u001b[49m\u001b[43m,\u001b[49m\n\u001b[32m   1992\u001b[39m \u001b[43m        \u001b[49m\u001b[43moperation_id\u001b[49m\u001b[43m=\u001b[49m\u001b[43moperation_id\u001b[49m\u001b[43m,\u001b[49m\n\u001b[32m-> \u001b[39m\u001b[32m1993\u001b[39m \u001b[43m    \u001b[49m\u001b[43m)\u001b[49m\u001b[43m.\u001b[49m\u001b[43mrun\u001b[49m\u001b[43m(\u001b[49m\u001b[43m)\u001b[49m\n",
      "\u001b[36mFile \u001b[39m\u001b[32m~/.local/share/virtualenvs/cherry_picking_trap-34YczwhT/lib/python3.11/site-packages/pymongo/synchronous/mongo_client.py:2730\u001b[39m, in \u001b[36m_ClientConnectionRetryable.run\u001b[39m\u001b[34m(self)\u001b[39m\n\u001b[32m   2728\u001b[39m \u001b[38;5;28mself\u001b[39m._check_last_error(check_csot=\u001b[38;5;28;01mTrue\u001b[39;00m)\n\u001b[32m   2729\u001b[39m \u001b[38;5;28;01mtry\u001b[39;00m:\n\u001b[32m-> \u001b[39m\u001b[32m2730\u001b[39m     \u001b[38;5;28;01mreturn\u001b[39;00m \u001b[38;5;28;43mself\u001b[39;49m\u001b[43m.\u001b[49m\u001b[43m_read\u001b[49m\u001b[43m(\u001b[49m\u001b[43m)\u001b[49m \u001b[38;5;28;01mif\u001b[39;00m \u001b[38;5;28mself\u001b[39m._is_read \u001b[38;5;28;01melse\u001b[39;00m \u001b[38;5;28mself\u001b[39m._write()\n\u001b[32m   2731\u001b[39m \u001b[38;5;28;01mexcept\u001b[39;00m ServerSelectionTimeoutError:\n\u001b[32m   2732\u001b[39m     \u001b[38;5;66;03m# The application may think the write was never attempted\u001b[39;00m\n\u001b[32m   2733\u001b[39m     \u001b[38;5;66;03m# if we raise ServerSelectionTimeoutError on the retry\u001b[39;00m\n\u001b[32m   2734\u001b[39m     \u001b[38;5;66;03m# attempt. Raise the original exception instead.\u001b[39;00m\n\u001b[32m   2735\u001b[39m     \u001b[38;5;28mself\u001b[39m._check_last_error()\n",
      "\u001b[36mFile \u001b[39m\u001b[32m~/.local/share/virtualenvs/cherry_picking_trap-34YczwhT/lib/python3.11/site-packages/pymongo/synchronous/mongo_client.py:2891\u001b[39m, in \u001b[36m_ClientConnectionRetryable._read\u001b[39m\u001b[34m(self)\u001b[39m\n\u001b[32m   2883\u001b[39m \u001b[38;5;28;01mif\u001b[39;00m \u001b[38;5;28mself\u001b[39m._retrying:\n\u001b[32m   2884\u001b[39m     _debug_log(\n\u001b[32m   2885\u001b[39m         _COMMAND_LOGGER,\n\u001b[32m   2886\u001b[39m         message=\u001b[33mf\u001b[39m\u001b[33m\"\u001b[39m\u001b[33mRetrying read attempt number \u001b[39m\u001b[38;5;132;01m{\u001b[39;00m\u001b[38;5;28mself\u001b[39m._attempt_number\u001b[38;5;132;01m}\u001b[39;00m\u001b[33m\"\u001b[39m,\n\u001b[32m   (...)\u001b[39m\u001b[32m   2889\u001b[39m         operationId=\u001b[38;5;28mself\u001b[39m._operation_id,\n\u001b[32m   2890\u001b[39m     )\n\u001b[32m-> \u001b[39m\u001b[32m2891\u001b[39m \u001b[38;5;28;01mreturn\u001b[39;00m \u001b[38;5;28;43mself\u001b[39;49m\u001b[43m.\u001b[49m\u001b[43m_func\u001b[49m\u001b[43m(\u001b[49m\u001b[38;5;28;43mself\u001b[39;49m\u001b[43m.\u001b[49m\u001b[43m_session\u001b[49m\u001b[43m,\u001b[49m\u001b[43m \u001b[49m\u001b[38;5;28;43mself\u001b[39;49m\u001b[43m.\u001b[49m\u001b[43m_server\u001b[49m\u001b[43m,\u001b[49m\u001b[43m \u001b[49m\u001b[43mconn\u001b[49m\u001b[43m,\u001b[49m\u001b[43m \u001b[49m\u001b[43mread_pref\u001b[49m\u001b[43m)\u001b[49m\n",
      "\u001b[36mFile \u001b[39m\u001b[32m~/.local/share/virtualenvs/cherry_picking_trap-34YczwhT/lib/python3.11/site-packages/pymongo/synchronous/mongo_client.py:1908\u001b[39m, in \u001b[36mMongoClient._run_operation.<locals>._cmd\u001b[39m\u001b[34m(_session, server, conn, read_preference)\u001b[39m\n\u001b[32m   1901\u001b[39m \u001b[38;5;28;01mdef\u001b[39;00m\u001b[38;5;250m \u001b[39m\u001b[34m_cmd\u001b[39m(\n\u001b[32m   1902\u001b[39m     _session: Optional[ClientSession],\n\u001b[32m   1903\u001b[39m     server: Server,\n\u001b[32m   1904\u001b[39m     conn: Connection,\n\u001b[32m   1905\u001b[39m     read_preference: _ServerMode,\n\u001b[32m   1906\u001b[39m ) -> Response:\n\u001b[32m   1907\u001b[39m     operation.reset()  \u001b[38;5;66;03m# Reset op in case of retry.\u001b[39;00m\n\u001b[32m-> \u001b[39m\u001b[32m1908\u001b[39m     \u001b[38;5;28;01mreturn\u001b[39;00m \u001b[43mserver\u001b[49m\u001b[43m.\u001b[49m\u001b[43mrun_operation\u001b[49m\u001b[43m(\u001b[49m\n\u001b[32m   1909\u001b[39m \u001b[43m        \u001b[49m\u001b[43mconn\u001b[49m\u001b[43m,\u001b[49m\n\u001b[32m   1910\u001b[39m \u001b[43m        \u001b[49m\u001b[43moperation\u001b[49m\u001b[43m,\u001b[49m\n\u001b[32m   1911\u001b[39m \u001b[43m        \u001b[49m\u001b[43mread_preference\u001b[49m\u001b[43m,\u001b[49m\n\u001b[32m   1912\u001b[39m \u001b[43m        \u001b[49m\u001b[38;5;28;43mself\u001b[39;49m\u001b[43m.\u001b[49m\u001b[43m_event_listeners\u001b[49m\u001b[43m,\u001b[49m\n\u001b[32m   1913\u001b[39m \u001b[43m        \u001b[49m\u001b[43munpack_res\u001b[49m\u001b[43m,\u001b[49m\n\u001b[32m   1914\u001b[39m \u001b[43m        \u001b[49m\u001b[38;5;28;43mself\u001b[39;49m\u001b[43m,\u001b[49m\n\u001b[32m   1915\u001b[39m \u001b[43m    \u001b[49m\u001b[43m)\u001b[49m\n",
      "\u001b[36mFile \u001b[39m\u001b[32m~/.local/share/virtualenvs/cherry_picking_trap-34YczwhT/lib/python3.11/site-packages/pymongo/synchronous/helpers.py:47\u001b[39m, in \u001b[36m_handle_reauth.<locals>.inner\u001b[39m\u001b[34m(*args, **kwargs)\u001b[39m\n\u001b[32m     44\u001b[39m \u001b[38;5;28;01mfrom\u001b[39;00m\u001b[38;5;250m \u001b[39m\u001b[34;01mpymongo\u001b[39;00m\u001b[34;01m.\u001b[39;00m\u001b[34;01msynchronous\u001b[39;00m\u001b[34;01m.\u001b[39;00m\u001b[34;01mpool\u001b[39;00m\u001b[38;5;250m \u001b[39m\u001b[38;5;28;01mimport\u001b[39;00m Connection\n\u001b[32m     46\u001b[39m \u001b[38;5;28;01mtry\u001b[39;00m:\n\u001b[32m---> \u001b[39m\u001b[32m47\u001b[39m     \u001b[38;5;28;01mreturn\u001b[39;00m \u001b[43mfunc\u001b[49m\u001b[43m(\u001b[49m\u001b[43m*\u001b[49m\u001b[43margs\u001b[49m\u001b[43m,\u001b[49m\u001b[43m \u001b[49m\u001b[43m*\u001b[49m\u001b[43m*\u001b[49m\u001b[43mkwargs\u001b[49m\u001b[43m)\u001b[49m\n\u001b[32m     48\u001b[39m \u001b[38;5;28;01mexcept\u001b[39;00m OperationFailure \u001b[38;5;28;01mas\u001b[39;00m exc:\n\u001b[32m     49\u001b[39m     \u001b[38;5;28;01mif\u001b[39;00m no_reauth:\n",
      "\u001b[36mFile \u001b[39m\u001b[32m~/.local/share/virtualenvs/cherry_picking_trap-34YczwhT/lib/python3.11/site-packages/pymongo/synchronous/server.py:227\u001b[39m, in \u001b[36mServer.run_operation\u001b[39m\u001b[34m(self, conn, operation, read_preference, listeners, unpack_res, client)\u001b[39m\n\u001b[32m    225\u001b[39m         first = docs[\u001b[32m0\u001b[39m]\n\u001b[32m    226\u001b[39m         operation.client._process_response(first, operation.session)  \u001b[38;5;66;03m# type: ignore[misc, arg-type]\u001b[39;00m\n\u001b[32m--> \u001b[39m\u001b[32m227\u001b[39m         \u001b[43m_check_command_response\u001b[49m\u001b[43m(\u001b[49m\u001b[43mfirst\u001b[49m\u001b[43m,\u001b[49m\u001b[43m \u001b[49m\u001b[43mconn\u001b[49m\u001b[43m.\u001b[49m\u001b[43mmax_wire_version\u001b[49m\u001b[43m)\u001b[49m\n\u001b[32m    228\u001b[39m \u001b[38;5;28;01mexcept\u001b[39;00m \u001b[38;5;167;01mException\u001b[39;00m \u001b[38;5;28;01mas\u001b[39;00m exc:\n\u001b[32m    229\u001b[39m     duration = datetime.now() - start\n",
      "\u001b[36mFile \u001b[39m\u001b[32m~/.local/share/virtualenvs/cherry_picking_trap-34YczwhT/lib/python3.11/site-packages/pymongo/helpers_shared.py:250\u001b[39m, in \u001b[36m_check_command_response\u001b[39m\u001b[34m(response, max_wire_version, allowable_errors, parse_write_concern_error)\u001b[39m\n\u001b[32m    247\u001b[39m \u001b[38;5;28;01melif\u001b[39;00m code == \u001b[32m43\u001b[39m:\n\u001b[32m    248\u001b[39m     \u001b[38;5;28;01mraise\u001b[39;00m CursorNotFound(errmsg, code, response, max_wire_version)\n\u001b[32m--> \u001b[39m\u001b[32m250\u001b[39m \u001b[38;5;28;01mraise\u001b[39;00m OperationFailure(errmsg, code, response, max_wire_version)\n",
      "\u001b[31mOperationFailure\u001b[39m: user is not allowed to do action [find] on [cherry_picking_trap.simulation_results], full error: {'ok': 0, 'errmsg': 'user is not allowed to do action [find] on [cherry_picking_trap.simulation_results]', 'code': 8000, 'codeName': 'AtlasError'}"
     ]
    }
   ],
   "source": [
    "db = MONGOCLIENT[\"cherry_picking_trap\"]\n",
    "\n",
    "db[\"simulation_results\"].find_one()"
   ]
  },
  {
   "cell_type": "code",
   "execution_count": null,
   "metadata": {},
   "outputs": [],
   "source": [
    "# ## given db_a and db_b, insert all documents in db_a into db_b\n",
    "\n",
    "# db_a = MONGOCLIENT_LOCAL[\"cherry_picking_trap\"]\n",
    "# db_b = MONGOCLIENT[\"cherry_picking_trap\"]\n",
    "\n",
    "# # Use insert_many() instead of individual insert_one() calls\n",
    "# docs = list(db_a[\"simulation_results\"].find())\n",
    "# if docs:\n",
    "#     db_b[\"simulation_results\"].insert_many(docs)"
   ]
  },
  {
   "cell_type": "code",
   "execution_count": null,
   "metadata": {},
   "outputs": [],
   "source": []
  },
  {
   "cell_type": "code",
   "execution_count": 3,
   "metadata": {},
   "outputs": [],
   "source": [
    "rerun = 0\n",
    "if rerun:\n",
    "    ## drop the simulation_results collection\n",
    "    db = MONGOCLIENT_LOCAL[\"cherry_picking_trap\"]\n",
    "    db[\"simulation_results\"].drop()"
   ]
  },
  {
   "cell_type": "code",
   "execution_count": 6,
   "metadata": {},
   "outputs": [],
   "source": [
    "db = MONGOCLIENT_LOCAL[\"cherry_picking_trap\"]\n",
    "\n",
    "Ks = [i for i in range(1, 50, 1)]\n",
    "for i in range(50, 1050, 50):\n",
    "    Ks += [i]\n",
    "\n",
    "theta = 2.0\n",
    "for lamb in np.linspace(0, 1, 11):\n",
    "    lamb = round(lamb, 1)\n",
    "    for scale in [0.5, 1, 1.5, 2, 3]:\n",
    "        for K in Ks:\n",
    "            dic = {\"lamb\": lamb, \"K\": K, \"scale\": scale}\n",
    "            ## check whether the result already exists\n",
    "            if db[\"simulation_results\"].find_one(\n",
    "                {\"lamb\": lamb, \"K\": K, \"scale\": scale}\n",
    "            ):\n",
    "                continue\n",
    "            try:\n",
    "                model = CherryPickingModel(\n",
    "                    K=K,\n",
    "                    lamb=lamb,\n",
    "                    theta=theta,\n",
    "                    distribution_name=\"exponential\",\n",
    "                    dist_params={\"scale\": scale},  ## scale = \\mu\n",
    "                )\n",
    "                result = model.solve_and_analyze(num_simulations=1_000_000)\n",
    "                dic.update({\"success\": True})\n",
    "                dic.update(result)\n",
    "            except Exception as e:\n",
    "                print(e)\n",
    "                dic.update({\"success\": False})\n",
    "                dic.update({\"error\": str(e)})\n",
    "                continue\n",
    "\n",
    "            result.update(\n",
    "                {\n",
    "                    \"lamb\": lamb,\n",
    "                    \"K\": K,\n",
    "                    \"scale\": scale,\n",
    "                    \"dist\": \"exponential\",\n",
    "                    \"theta\": theta,\n",
    "                }\n",
    "            )\n",
    "            insert_simulation_result(db, result)"
   ]
  },
  {
   "cell_type": "code",
   "execution_count": 4,
   "metadata": {},
   "outputs": [],
   "source": [
    "\n",
    "\n",
    "# # Convert results to DataFrame\n",
    "# df = pd.DataFrame(results)\n",
    "# # df['K'] = df['K'].astype(str)\n",
    "\n",
    "# # Create the plot\n",
    "# plt.figure(figsize=(10, 6))\n",
    "# plt.plot(df[\"K\"], df[\"proposer_expected_payoff\"], \"b-\", linewidth=2, label=\"Proposer\")\n",
    "# plt.plot(df[\"K\"], df[\"responder_expected_payoff\"], \"r-\", linewidth=2, label=\"Responder\")\n",
    "\n",
    "\n",
    "# # Add grid for better readability\n",
    "# plt.grid(True, linestyle=\"--\", alpha=0.7)\n",
    "\n",
    "# # Show the plot\n",
    "# plt.show()\n",
    "\n",
    "\n",
    "# # Create the plot\n",
    "# plt.figure(figsize=(10, 6))\n",
    "# plt.plot(df[\"K\"], df[\"alpha_star\"], \"b-\", linewidth=2, )\n",
    "\n",
    "# # Add grid for better readability\n",
    "# plt.grid(True, linestyle=\"--\", alpha=0.7)\n",
    "\n",
    "# # Show the plot\n",
    "# plt.show()\n",
    "\n",
    "\n",
    "\n",
    "# # Create the plot\n",
    "# plt.figure(figsize=(10, 6))\n",
    "# plt.plot(df[\"K\"], df[\"q_star\"], \"b-\", linewidth=2, )\n",
    "\n",
    "# # Add grid for better readability\n",
    "# plt.grid(True, linestyle=\"--\", alpha=0.7)\n",
    "\n",
    "# # Show the plot\n",
    "# plt.show()"
   ]
  },
  {
   "cell_type": "code",
   "execution_count": null,
   "metadata": {},
   "outputs": [],
   "source": [
    "import pandas as pd\n",
    "from config.db import MONGOCLIENT_LOCAL\n",
    "from src.data_management.mongo_handler import get_simulation_results_filters\n",
    "\n",
    "db = MONGOCLIENT_LOCAL[\"cherry_picking_trap\"]\n",
    "\n",
    "\n",
    "get_simulation_results_filters(db)\n",
    "\n",
    "# df.head()\n",
    "\n",
    "# df.columns\n",
    "\n",
    "# df.describe()\n",
    "\n",
    "\n",
    "# df[df['proposer_threshold'] == df['proposer_threshold'].max()]\n",
    "# df.info()"
   ]
  },
  {
   "cell_type": "code",
   "execution_count": null,
   "metadata": {},
   "outputs": [],
   "source": []
  },
  {
   "cell_type": "code",
   "execution_count": null,
   "metadata": {},
   "outputs": [],
   "source": []
  }
 ],
 "metadata": {
  "kernelspec": {
   "display_name": "cherry_picking_trap-34YczwhT",
   "language": "python",
   "name": "python3"
  },
  "language_info": {
   "codemirror_mode": {
    "name": "ipython",
    "version": 3
   },
   "file_extension": ".py",
   "mimetype": "text/x-python",
   "name": "python",
   "nbconvert_exporter": "python",
   "pygments_lexer": "ipython3",
   "version": "3.11.9"
  }
 },
 "nbformat": 4,
 "nbformat_minor": 2
}
